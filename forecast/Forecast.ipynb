{
 "cells": [
  {
   "cell_type": "code",
   "execution_count": 1,
   "metadata": {},
   "outputs": [
    {
     "data": {
      "text/html": [
       "<table>\n",
       "<thead><tr><th></th><th scope=col>id</th><th scope=col>title</th></tr></thead>\n",
       "<tbody>\n",
       "\t<tr><th scope=row>30</th><td>FIGURE1_E_AEO2013                                                                                                            </td><td>Figure 1: Real GDP growth 2013 (East)                                                                                        </td></tr>\n",
       "\t<tr><th scope=row>61</th><td>SNA_TABLE1                                                                                                                   </td><td>1. Gross domestic product (GDP)                                                                                              </td></tr>\n",
       "\t<tr><th scope=row>111</th><td>PPPGDP                                                                                                                       </td><td>Purchasing Power Parities for GDP and related indicators                                                                     </td></tr>\n",
       "\t<tr><th scope=row>223</th><td>AEO11_OVERVIEW_CHAPTER1_TAB2_EN                                                                                              </td><td>Table 1.1: Growth by regions (real GDP growth in percentage)                                                                 </td></tr>\n",
       "\t<tr><th scope=row>423</th><td>AEO11_COUNTRYNOTES_TAB5_EN                                                                                                   </td><td>Table 5: Current account (percentage of GDP)                                                                                 </td></tr>\n",
       "\t<tr><th scope=row>459</th><td>AEO11_INDEPTH_CHAPTER6_FIG11_EN                                                                                              </td><td>Figure 6.11: Africa’s post-HIPC debt (external debt in percentage of GDP, 1995-2009)                                         </td></tr>\n",
       "\t<tr><th scope=row>462</th><td>AEO11_INDEPTH_CHAPTER6_TAB11_EN                                                                                              </td><td>Table 6.11: Ethiopia, public debt in percentage of GDP                                                                       </td></tr>\n",
       "\t<tr><th scope=row>464</th><td>AEO11_COUNTRYNOTES_TAB4_EN                                                                                                   </td><td>Table 4: Public finances (percentage of GDP)                                                                                 </td></tr>\n",
       "\t<tr><th scope=row>471</th><td>AEO11_COUNTRYNOTES_FIG2_EN                                                                                                   </td><td>Figure 2: Stock of total external debt (percentage of GDP) and debt service (percentage of exports of goods and services)    </td></tr>\n",
       "\t<tr><th scope=row>612</th><td>AEO11_COUNTRYNOTES_TAB2_EN                                                                                                   </td><td>Table 2: GDP by sector (in percentage)                                                                                       </td></tr>\n",
       "\t<tr><th scope=row>728</th><td>AEO2012_CH6_FIG20                                                                                                            </td><td>Figure 20: Household enterprises are the fastest growing livelihood sector in low income countries, ordered by GDP per capita</td></tr>\n",
       "\t<tr><th scope=row>755</th><td>AEO2012_CH1_FIG4                                                                                                             </td><td>2012 Figure 1.4: Growth of GDP by countries (%)                                                                              </td></tr>\n",
       "\t<tr><th scope=row>764</th><td>AEO2012_CH2_FIG1B                                                                                                            </td><td>2012 Figure 2.1b: Domestic and external financial resources (% GDP, 2010)                                                    </td></tr>\n",
       "\t<tr><th scope=row>766</th><td>AEO2012_CH2_FIG4                                                                                                             </td><td>2012 Figure 2.4: Oil-importing countries attracted more FDI as a share of GDP than oil-exporting countries                   </td></tr>\n",
       "\t<tr><th scope=row>767</th><td>AEO2012_CH2_FIG5A                                                                                                            </td><td>2012 Figure 2.5a: African FDI outflows mainly go from resource-rich countries to OECD nations (% of GDP)                     </td></tr>\n",
       "\t<tr><th scope=row>772</th><td>AEO2012_CH2_FIG9                                                                                                             </td><td>2012 Figure 2.9: Tax revenues in Africa represent an increasing share of GDP during the last decade                          </td></tr>\n",
       "\t<tr><th scope=row>859</th><td>FIGURE1_W_AEO2013                                                                                                            </td><td>Figure 1: Real GDP growth 2013 (West)                                                                                        </td></tr>\n",
       "\t<tr><th scope=row>908</th><td>SNA_TABLE1_SNA93                                                                                                             </td><td>1. Gross domestic product (GDP), SNA93                                                                                       </td></tr>\n",
       "\t<tr><th scope=row>914</th><td>SNA_TABLE1_TRAINING                                                                                                          </td><td>1. Gross domestic product (GDP) Training2                                                                                    </td></tr>\n",
       "\t<tr><th scope=row>928</th><td>FIGURE1_N_AEO2013                                                                                                            </td><td>Figure 1: Real GDP Growth 2013 (North)                                                                                       </td></tr>\n",
       "\t<tr><th scope=row>929</th><td>FIGURE1_C_AEO2013                                                                                                            </td><td>Figure 1: Real GDP growth 2013 (Central)                                                                                     </td></tr>\n",
       "\t<tr><th scope=row>931</th><td>FIGURE1_S_AEO2013                                                                                                            </td><td>Figure 1: Real GDP growth 2013 (South)                                                                                       </td></tr>\n",
       "\t<tr><th scope=row>948</th><td>TABLE2_AEO2013_V2                                                                                                            </td><td>Table 2: GDP by Sector (percentage of GDP)                                                                                   </td></tr>\n",
       "\t<tr><th scope=row>949</th><td>TABLE3_AEO2013_V2                                                                                                            </td><td>Table 3: Public Finances (percentage of GDP)                                                                                 </td></tr>\n",
       "\t<tr><th scope=row>950</th><td>TABLE4_AEO2013_V2                                                                                                            </td><td>Table 4: Current Account (percentage of GDP)                                                                                 </td></tr>\n",
       "\t<tr><th scope=row>979</th><td>PDB_LV                                                                                                                       </td><td>Level of GDP per capita and productivity                                                                                     </td></tr>\n",
       "\t<tr><th scope=row>980</th><td>PDB_GR                                                                                                                       </td><td>Growth in GDP per capita, productivity and ULC                                                                               </td></tr>\n",
       "</tbody>\n",
       "</table>\n"
      ],
      "text/latex": [
       "\\begin{tabular}{r|ll}\n",
       "  & id & title\\\\\n",
       "\\hline\n",
       "\t30 & FIGURE1\\_E\\_AEO2013                                                                                                         & Figure 1: Real GDP growth 2013 (East)                                                                                        \\\\\n",
       "\t61 & SNA\\_TABLE1                                                                                                                  & 1. Gross domestic product (GDP)                                                                                              \\\\\n",
       "\t111 & PPPGDP                                                                                                                        & Purchasing Power Parities for GDP and related indicators                                                                     \\\\\n",
       "\t223 & AEO11\\_OVERVIEW\\_CHAPTER1\\_TAB2\\_EN                                                                                       & Table 1.1: Growth by regions (real GDP growth in percentage)                                                                 \\\\\n",
       "\t423 & AEO11\\_COUNTRYNOTES\\_TAB5\\_EN                                                                                              & Table 5: Current account (percentage of GDP)                                                                                 \\\\\n",
       "\t459 & AEO11\\_INDEPTH\\_CHAPTER6\\_FIG11\\_EN                                                                                       & Figure 6.11: Africa’s post-HIPC debt (external debt in percentage of GDP, 1995-2009)                                         \\\\\n",
       "\t462 & AEO11\\_INDEPTH\\_CHAPTER6\\_TAB11\\_EN                                                                                       & Table 6.11: Ethiopia, public debt in percentage of GDP                                                                       \\\\\n",
       "\t464 & AEO11\\_COUNTRYNOTES\\_TAB4\\_EN                                                                                              & Table 4: Public finances (percentage of GDP)                                                                                 \\\\\n",
       "\t471 & AEO11\\_COUNTRYNOTES\\_FIG2\\_EN                                                                                              & Figure 2: Stock of total external debt (percentage of GDP) and debt service (percentage of exports of goods and services)    \\\\\n",
       "\t612 & AEO11\\_COUNTRYNOTES\\_TAB2\\_EN                                                                                              & Table 2: GDP by sector (in percentage)                                                                                       \\\\\n",
       "\t728 & AEO2012\\_CH6\\_FIG20                                                                                                         & Figure 20: Household enterprises are the fastest growing livelihood sector in low income countries, ordered by GDP per capita\\\\\n",
       "\t755 & AEO2012\\_CH1\\_FIG4                                                                                                            & 2012 Figure 1.4: Growth of GDP by countries (\\%)                                                                              \\\\\n",
       "\t764 & AEO2012\\_CH2\\_FIG1B                                                                                                           & 2012 Figure 2.1b: Domestic and external financial resources (\\% GDP, 2010)                                                    \\\\\n",
       "\t766 & AEO2012\\_CH2\\_FIG4                                                                                                          & 2012 Figure 2.4: Oil-importing countries attracted more FDI as a share of GDP than oil-exporting countries                   \\\\\n",
       "\t767 & AEO2012\\_CH2\\_FIG5A                                                                                                           & 2012 Figure 2.5a: African FDI outflows mainly go from resource-rich countries to OECD nations (\\% of GDP)                     \\\\\n",
       "\t772 & AEO2012\\_CH2\\_FIG9                                                                                                          & 2012 Figure 2.9: Tax revenues in Africa represent an increasing share of GDP during the last decade                          \\\\\n",
       "\t859 & FIGURE1\\_W\\_AEO2013                                                                                                         & Figure 1: Real GDP growth 2013 (West)                                                                                        \\\\\n",
       "\t908 & SNA\\_TABLE1\\_SNA93                                                                                                          & 1. Gross domestic product (GDP), SNA93                                                                                       \\\\\n",
       "\t914 & SNA\\_TABLE1\\_TRAINING                                                                                                       & 1. Gross domestic product (GDP) Training2                                                                                    \\\\\n",
       "\t928 & FIGURE1\\_N\\_AEO2013                                                                                                         & Figure 1: Real GDP Growth 2013 (North)                                                                                       \\\\\n",
       "\t929 & FIGURE1\\_C\\_AEO2013                                                                                                         & Figure 1: Real GDP growth 2013 (Central)                                                                                     \\\\\n",
       "\t931 & FIGURE1\\_S\\_AEO2013                                                                                                         & Figure 1: Real GDP growth 2013 (South)                                                                                       \\\\\n",
       "\t948 & TABLE2\\_AEO2013\\_V2                                                                                                         & Table 2: GDP by Sector (percentage of GDP)                                                                                   \\\\\n",
       "\t949 & TABLE3\\_AEO2013\\_V2                                                                                                         & Table 3: Public Finances (percentage of GDP)                                                                                 \\\\\n",
       "\t950 & TABLE4\\_AEO2013\\_V2                                                                                                         & Table 4: Current Account (percentage of GDP)                                                                                 \\\\\n",
       "\t979 & PDB\\_LV                                                                                                                      & Level of GDP per capita and productivity                                                                                     \\\\\n",
       "\t980 & PDB\\_GR                                                                                                                      & Growth in GDP per capita, productivity and ULC                                                                               \\\\\n",
       "\\end{tabular}\n"
      ],
      "text/markdown": [
       "\n",
       "| <!--/--> | id | title | \n",
       "|---|---|---|---|---|---|---|---|---|---|---|---|---|---|---|---|---|---|---|---|---|---|---|---|---|---|---|\n",
       "| 30 | FIGURE1_E_AEO2013                                                                                                             | Figure 1: Real GDP growth 2013 (East)                                                                                         | \n",
       "| 61 | SNA_TABLE1                                                                                                                    | 1. Gross domestic product (GDP)                                                                                               | \n",
       "| 111 | PPPGDP                                                                                                                        | Purchasing Power Parities for GDP and related indicators                                                                      | \n",
       "| 223 | AEO11_OVERVIEW_CHAPTER1_TAB2_EN                                                                                               | Table 1.1: Growth by regions (real GDP growth in percentage)                                                                  | \n",
       "| 423 | AEO11_COUNTRYNOTES_TAB5_EN                                                                                                    | Table 5: Current account (percentage of GDP)                                                                                  | \n",
       "| 459 | AEO11_INDEPTH_CHAPTER6_FIG11_EN                                                                                               | Figure 6.11: Africa’s post-HIPC debt (external debt in percentage of GDP, 1995-2009)                                          | \n",
       "| 462 | AEO11_INDEPTH_CHAPTER6_TAB11_EN                                                                                               | Table 6.11: Ethiopia, public debt in percentage of GDP                                                                        | \n",
       "| 464 | AEO11_COUNTRYNOTES_TAB4_EN                                                                                                    | Table 4: Public finances (percentage of GDP)                                                                                  | \n",
       "| 471 | AEO11_COUNTRYNOTES_FIG2_EN                                                                                                    | Figure 2: Stock of total external debt (percentage of GDP) and debt service (percentage of exports of goods and services)     | \n",
       "| 612 | AEO11_COUNTRYNOTES_TAB2_EN                                                                                                    | Table 2: GDP by sector (in percentage)                                                                                        | \n",
       "| 728 | AEO2012_CH6_FIG20                                                                                                             | Figure 20: Household enterprises are the fastest growing livelihood sector in low income countries, ordered by GDP per capita | \n",
       "| 755 | AEO2012_CH1_FIG4                                                                                                              | 2012 Figure 1.4: Growth of GDP by countries (%)                                                                               | \n",
       "| 764 | AEO2012_CH2_FIG1B                                                                                                             | 2012 Figure 2.1b: Domestic and external financial resources (% GDP, 2010)                                                     | \n",
       "| 766 | AEO2012_CH2_FIG4                                                                                                              | 2012 Figure 2.4: Oil-importing countries attracted more FDI as a share of GDP than oil-exporting countries                    | \n",
       "| 767 | AEO2012_CH2_FIG5A                                                                                                             | 2012 Figure 2.5a: African FDI outflows mainly go from resource-rich countries to OECD nations (% of GDP)                      | \n",
       "| 772 | AEO2012_CH2_FIG9                                                                                                              | 2012 Figure 2.9: Tax revenues in Africa represent an increasing share of GDP during the last decade                           | \n",
       "| 859 | FIGURE1_W_AEO2013                                                                                                             | Figure 1: Real GDP growth 2013 (West)                                                                                         | \n",
       "| 908 | SNA_TABLE1_SNA93                                                                                                              | 1. Gross domestic product (GDP), SNA93                                                                                        | \n",
       "| 914 | SNA_TABLE1_TRAINING                                                                                                           | 1. Gross domestic product (GDP) Training2                                                                                     | \n",
       "| 928 | FIGURE1_N_AEO2013                                                                                                             | Figure 1: Real GDP Growth 2013 (North)                                                                                        | \n",
       "| 929 | FIGURE1_C_AEO2013                                                                                                             | Figure 1: Real GDP growth 2013 (Central)                                                                                      | \n",
       "| 931 | FIGURE1_S_AEO2013                                                                                                             | Figure 1: Real GDP growth 2013 (South)                                                                                        | \n",
       "| 948 | TABLE2_AEO2013_V2                                                                                                             | Table 2: GDP by Sector (percentage of GDP)                                                                                    | \n",
       "| 949 | TABLE3_AEO2013_V2                                                                                                             | Table 3: Public Finances (percentage of GDP)                                                                                  | \n",
       "| 950 | TABLE4_AEO2013_V2                                                                                                             | Table 4: Current Account (percentage of GDP)                                                                                  | \n",
       "| 979 | PDB_LV                                                                                                                        | Level of GDP per capita and productivity                                                                                      | \n",
       "| 980 | PDB_GR                                                                                                                        | Growth in GDP per capita, productivity and ULC                                                                                | \n",
       "\n",
       "\n"
      ],
      "text/plain": [
       "    id                             \n",
       "30  FIGURE1_E_AEO2013              \n",
       "61  SNA_TABLE1                     \n",
       "111 PPPGDP                         \n",
       "223 AEO11_OVERVIEW_CHAPTER1_TAB2_EN\n",
       "423 AEO11_COUNTRYNOTES_TAB5_EN     \n",
       "459 AEO11_INDEPTH_CHAPTER6_FIG11_EN\n",
       "462 AEO11_INDEPTH_CHAPTER6_TAB11_EN\n",
       "464 AEO11_COUNTRYNOTES_TAB4_EN     \n",
       "471 AEO11_COUNTRYNOTES_FIG2_EN     \n",
       "612 AEO11_COUNTRYNOTES_TAB2_EN     \n",
       "728 AEO2012_CH6_FIG20              \n",
       "755 AEO2012_CH1_FIG4               \n",
       "764 AEO2012_CH2_FIG1B              \n",
       "766 AEO2012_CH2_FIG4               \n",
       "767 AEO2012_CH2_FIG5A              \n",
       "772 AEO2012_CH2_FIG9               \n",
       "859 FIGURE1_W_AEO2013              \n",
       "908 SNA_TABLE1_SNA93               \n",
       "914 SNA_TABLE1_TRAINING            \n",
       "928 FIGURE1_N_AEO2013              \n",
       "929 FIGURE1_C_AEO2013              \n",
       "931 FIGURE1_S_AEO2013              \n",
       "948 TABLE2_AEO2013_V2              \n",
       "949 TABLE3_AEO2013_V2              \n",
       "950 TABLE4_AEO2013_V2              \n",
       "979 PDB_LV                         \n",
       "980 PDB_GR                         \n",
       "    title                                                                                                                        \n",
       "30  Figure 1: Real GDP growth 2013 (East)                                                                                        \n",
       "61  1. Gross domestic product (GDP)                                                                                              \n",
       "111 Purchasing Power Parities for GDP and related indicators                                                                     \n",
       "223 Table 1.1: Growth by regions (real GDP growth in percentage)                                                                 \n",
       "423 Table 5: Current account (percentage of GDP)                                                                                 \n",
       "459 Figure 6.11: Africa’s post-HIPC debt (external debt in percentage of GDP, 1995-2009)                                         \n",
       "462 Table 6.11: Ethiopia, public debt in percentage of GDP                                                                       \n",
       "464 Table 4: Public finances (percentage of GDP)                                                                                 \n",
       "471 Figure 2: Stock of total external debt (percentage of GDP) and debt service (percentage of exports of goods and services)    \n",
       "612 Table 2: GDP by sector (in percentage)                                                                                       \n",
       "728 Figure 20: Household enterprises are the fastest growing livelihood sector in low income countries, ordered by GDP per capita\n",
       "755 2012 Figure 1.4: Growth of GDP by countries (%)                                                                              \n",
       "764 2012 Figure 2.1b: Domestic and external financial resources (% GDP, 2010)                                                    \n",
       "766 2012 Figure 2.4: Oil-importing countries attracted more FDI as a share of GDP than oil-exporting countries                   \n",
       "767 2012 Figure 2.5a: African FDI outflows mainly go from resource-rich countries to OECD nations (% of GDP)                     \n",
       "772 2012 Figure 2.9: Tax revenues in Africa represent an increasing share of GDP during the last decade                          \n",
       "859 Figure 1: Real GDP growth 2013 (West)                                                                                        \n",
       "908 1. Gross domestic product (GDP), SNA93                                                                                       \n",
       "914 1. Gross domestic product (GDP) Training2                                                                                    \n",
       "928 Figure 1: Real GDP Growth 2013 (North)                                                                                       \n",
       "929 Figure 1: Real GDP growth 2013 (Central)                                                                                     \n",
       "931 Figure 1: Real GDP growth 2013 (South)                                                                                       \n",
       "948 Table 2: GDP by Sector (percentage of GDP)                                                                                   \n",
       "949 Table 3: Public Finances (percentage of GDP)                                                                                 \n",
       "950 Table 4: Current Account (percentage of GDP)                                                                                 \n",
       "979 Level of GDP per capita and productivity                                                                                     \n",
       "980 Growth in GDP per capita, productivity and ULC                                                                               "
      ]
     },
     "metadata": {},
     "output_type": "display_data"
    }
   ],
   "source": [
    "library(OECD)\n",
    "dataset_list <- get_datasets()\n",
    "search_dataset(\"gdp\", data = dataset_list)\n"
   ]
  },
  {
   "cell_type": "code",
   "execution_count": 2,
   "metadata": {},
   "outputs": [
    {
     "name": "stdout",
     "output_type": "stream",
     "text": [
      "List of 10\n",
      " $ VAR_DESC       :'data.frame':\t10 obs. of  2 variables:\n",
      " $ LOCATION       :'data.frame':\t67 obs. of  2 variables:\n",
      " $ TRANSACT       :'data.frame':\t121 obs. of  2 variables:\n",
      " $ MEASURE        :'data.frame':\t21 obs. of  2 variables:\n",
      " $ TIME           :'data.frame':\t68 obs. of  2 variables:\n",
      " $ OBS_STATUS     :'data.frame':\t15 obs. of  2 variables:\n",
      " $ UNIT           :'data.frame':\t305 obs. of  2 variables:\n",
      " $ POWERCODE      :'data.frame':\t32 obs. of  2 variables:\n",
      " $ REFERENCEPERIOD:'data.frame':\t87 obs. of  2 variables:\n",
      " $ TIME_FORMAT    :'data.frame':\t5 obs. of  2 variables:\n"
     ]
    },
    {
     "data": {
      "text/html": [
       "<table>\n",
       "<thead><tr><th scope=col>id</th><th scope=col>label</th></tr></thead>\n",
       "<tbody>\n",
       "\t<tr><td>C                                                                 </td><td>Current prices                                                    </td></tr>\n",
       "\t<tr><td>V                                                                 </td><td>Constant prices, national base year                               </td></tr>\n",
       "\t<tr><td>VP                                                                </td><td>Constant prices, previous year prices                             </td></tr>\n",
       "\t<tr><td>VOB                                                               </td><td>Constant prices, OECD base year                                   </td></tr>\n",
       "\t<tr><td>CXC                                                               </td><td>Current prices, current exchange rates                            </td></tr>\n",
       "\t<tr><td>VXCOB                                                             </td><td>Current prices, constant exchange rates, OECD base year           </td></tr>\n",
       "\t<tr><td>VXVOB                                                             </td><td>Constant prices, constant exchange rates, OECD base year          </td></tr>\n",
       "\t<tr><td>XVP                                                               </td><td>Previous year prices and previous year exchange rates             </td></tr>\n",
       "\t<tr><td>CPC                                                               </td><td>Current prices, current PPPs                                      </td></tr>\n",
       "\t<tr><td>VPCOB                                                             </td><td>Current prices, constant PPPs, OECD base year                     </td></tr>\n",
       "\t<tr><td>VPVOB                                                             </td><td>Constant prices, constant PPPs, OECD base year                    </td></tr>\n",
       "\t<tr><td>PVP                                                               </td><td>Previous year prices and previous year PPPs                       </td></tr>\n",
       "\t<tr><td>HCXC                                                              </td><td>Per head, current prices, current exchange rates                  </td></tr>\n",
       "\t<tr><td>HVXVOB                                                            </td><td>Per head, constant prices, constant exchange rates, OECD base year</td></tr>\n",
       "\t<tr><td>HCPC                                                              </td><td>Per head, current prices, current PPPs                            </td></tr>\n",
       "\t<tr><td>HVPVOB                                                            </td><td>Per head, constant prices, constant PPPs, OECD base year          </td></tr>\n",
       "\t<tr><td>HCPIXOE                                                           </td><td>Per head, index using current prices and current PPPs             </td></tr>\n",
       "\t<tr><td>HVPIXOE                                                           </td><td>Per head, index using the price levels and PPPs of 2010           </td></tr>\n",
       "\t<tr><td>VIXOB                                                             </td><td>Volume index                                                      </td></tr>\n",
       "\t<tr><td>DOB                                                               </td><td>Deflator                                                          </td></tr>\n",
       "\t<tr><td>G                                                                 </td><td>Growth rate                                                       </td></tr>\n",
       "</tbody>\n",
       "</table>\n"
      ],
      "text/latex": [
       "\\begin{tabular}{r|ll}\n",
       " id & label\\\\\n",
       "\\hline\n",
       "\t C                                                                  & Current prices                                                    \\\\\n",
       "\t V                                                                  & Constant prices, national base year                               \\\\\n",
       "\t VP                                                                 & Constant prices, previous year prices                             \\\\\n",
       "\t VOB                                                                & Constant prices, OECD base year                                   \\\\\n",
       "\t CXC                                                                & Current prices, current exchange rates                            \\\\\n",
       "\t VXCOB                                                              & Current prices, constant exchange rates, OECD base year           \\\\\n",
       "\t VXVOB                                                              & Constant prices, constant exchange rates, OECD base year          \\\\\n",
       "\t XVP                                                                & Previous year prices and previous year exchange rates             \\\\\n",
       "\t CPC                                                                & Current prices, current PPPs                                      \\\\\n",
       "\t VPCOB                                                              & Current prices, constant PPPs, OECD base year                     \\\\\n",
       "\t VPVOB                                                              & Constant prices, constant PPPs, OECD base year                    \\\\\n",
       "\t PVP                                                                & Previous year prices and previous year PPPs                       \\\\\n",
       "\t HCXC                                                               & Per head, current prices, current exchange rates                  \\\\\n",
       "\t HVXVOB                                                             & Per head, constant prices, constant exchange rates, OECD base year\\\\\n",
       "\t HCPC                                                               & Per head, current prices, current PPPs                            \\\\\n",
       "\t HVPVOB                                                             & Per head, constant prices, constant PPPs, OECD base year          \\\\\n",
       "\t HCPIXOE                                                            & Per head, index using current prices and current PPPs             \\\\\n",
       "\t HVPIXOE                                                            & Per head, index using the price levels and PPPs of 2010           \\\\\n",
       "\t VIXOB                                                              & Volume index                                                      \\\\\n",
       "\t DOB                                                                & Deflator                                                          \\\\\n",
       "\t G                                                                  & Growth rate                                                       \\\\\n",
       "\\end{tabular}\n"
      ],
      "text/markdown": [
       "\n",
       "id | label | \n",
       "|---|---|---|---|---|---|---|---|---|---|---|---|---|---|---|---|---|---|---|---|---|\n",
       "| C                                                                  | Current prices                                                     | \n",
       "| V                                                                  | Constant prices, national base year                                | \n",
       "| VP                                                                 | Constant prices, previous year prices                              | \n",
       "| VOB                                                                | Constant prices, OECD base year                                    | \n",
       "| CXC                                                                | Current prices, current exchange rates                             | \n",
       "| VXCOB                                                              | Current prices, constant exchange rates, OECD base year            | \n",
       "| VXVOB                                                              | Constant prices, constant exchange rates, OECD base year           | \n",
       "| XVP                                                                | Previous year prices and previous year exchange rates              | \n",
       "| CPC                                                                | Current prices, current PPPs                                       | \n",
       "| VPCOB                                                              | Current prices, constant PPPs, OECD base year                      | \n",
       "| VPVOB                                                              | Constant prices, constant PPPs, OECD base year                     | \n",
       "| PVP                                                                | Previous year prices and previous year PPPs                        | \n",
       "| HCXC                                                               | Per head, current prices, current exchange rates                   | \n",
       "| HVXVOB                                                             | Per head, constant prices, constant exchange rates, OECD base year | \n",
       "| HCPC                                                               | Per head, current prices, current PPPs                             | \n",
       "| HVPVOB                                                             | Per head, constant prices, constant PPPs, OECD base year           | \n",
       "| HCPIXOE                                                            | Per head, index using current prices and current PPPs              | \n",
       "| HVPIXOE                                                            | Per head, index using the price levels and PPPs of 2010            | \n",
       "| VIXOB                                                              | Volume index                                                       | \n",
       "| DOB                                                                | Deflator                                                           | \n",
       "| G                                                                  | Growth rate                                                        | \n",
       "\n",
       "\n"
      ],
      "text/plain": [
       "   id      label                                                             \n",
       "1  C       Current prices                                                    \n",
       "2  V       Constant prices, national base year                               \n",
       "3  VP      Constant prices, previous year prices                             \n",
       "4  VOB     Constant prices, OECD base year                                   \n",
       "5  CXC     Current prices, current exchange rates                            \n",
       "6  VXCOB   Current prices, constant exchange rates, OECD base year           \n",
       "7  VXVOB   Constant prices, constant exchange rates, OECD base year          \n",
       "8  XVP     Previous year prices and previous year exchange rates             \n",
       "9  CPC     Current prices, current PPPs                                      \n",
       "10 VPCOB   Current prices, constant PPPs, OECD base year                     \n",
       "11 VPVOB   Constant prices, constant PPPs, OECD base year                    \n",
       "12 PVP     Previous year prices and previous year PPPs                       \n",
       "13 HCXC    Per head, current prices, current exchange rates                  \n",
       "14 HVXVOB  Per head, constant prices, constant exchange rates, OECD base year\n",
       "15 HCPC    Per head, current prices, current PPPs                            \n",
       "16 HVPVOB  Per head, constant prices, constant PPPs, OECD base year          \n",
       "17 HCPIXOE Per head, index using current prices and current PPPs             \n",
       "18 HVPIXOE Per head, index using the price levels and PPPs of 2010           \n",
       "19 VIXOB   Volume index                                                      \n",
       "20 DOB     Deflator                                                          \n",
       "21 G       Growth rate                                                       "
      ]
     },
     "metadata": {},
     "output_type": "display_data"
    },
    {
     "data": {
      "text/html": [
       "<table>\n",
       "<thead><tr><th scope=col>id</th><th scope=col>description</th></tr></thead>\n",
       "<tbody>\n",
       "\t<tr><td>LOCATION          </td><td>Country           </td></tr>\n",
       "\t<tr><td>TRANSACT          </td><td>Transaction       </td></tr>\n",
       "\t<tr><td>MEASURE           </td><td>Measure           </td></tr>\n",
       "\t<tr><td>TIME              </td><td>Year              </td></tr>\n",
       "\t<tr><td>OBS_VALUE         </td><td>Observation Value </td></tr>\n",
       "\t<tr><td>TIME_FORMAT       </td><td>Time Format       </td></tr>\n",
       "\t<tr><td>OBS_STATUS        </td><td>Observation Status</td></tr>\n",
       "\t<tr><td>UNIT              </td><td>Unit              </td></tr>\n",
       "\t<tr><td>POWERCODE         </td><td>Unit multiplier   </td></tr>\n",
       "\t<tr><td>REFERENCEPERIOD   </td><td>Reference period  </td></tr>\n",
       "</tbody>\n",
       "</table>\n"
      ],
      "text/latex": [
       "\\begin{tabular}{r|ll}\n",
       " id & description\\\\\n",
       "\\hline\n",
       "\t LOCATION           & Country           \\\\\n",
       "\t TRANSACT           & Transaction       \\\\\n",
       "\t MEASURE            & Measure           \\\\\n",
       "\t TIME               & Year              \\\\\n",
       "\t OBS\\_VALUE        & Observation Value \\\\\n",
       "\t TIME\\_FORMAT      & Time Format       \\\\\n",
       "\t OBS\\_STATUS       & Observation Status\\\\\n",
       "\t UNIT               & Unit              \\\\\n",
       "\t POWERCODE          & Unit multiplier   \\\\\n",
       "\t REFERENCEPERIOD    & Reference period  \\\\\n",
       "\\end{tabular}\n"
      ],
      "text/markdown": [
       "\n",
       "id | description | \n",
       "|---|---|---|---|---|---|---|---|---|---|\n",
       "| LOCATION           | Country            | \n",
       "| TRANSACT           | Transaction        | \n",
       "| MEASURE            | Measure            | \n",
       "| TIME               | Year               | \n",
       "| OBS_VALUE          | Observation Value  | \n",
       "| TIME_FORMAT        | Time Format        | \n",
       "| OBS_STATUS         | Observation Status | \n",
       "| UNIT               | Unit               | \n",
       "| POWERCODE          | Unit multiplier    | \n",
       "| REFERENCEPERIOD    | Reference period   | \n",
       "\n",
       "\n"
      ],
      "text/plain": [
       "   id              description       \n",
       "1  LOCATION        Country           \n",
       "2  TRANSACT        Transaction       \n",
       "3  MEASURE         Measure           \n",
       "4  TIME            Year              \n",
       "5  OBS_VALUE       Observation Value \n",
       "6  TIME_FORMAT     Time Format       \n",
       "7  OBS_STATUS      Observation Status\n",
       "8  UNIT            Unit              \n",
       "9  POWERCODE       Unit multiplier   \n",
       "10 REFERENCEPERIOD Reference period  "
      ]
     },
     "metadata": {},
     "output_type": "display_data"
    }
   ],
   "source": [
    "dataset = \"SNA_TABLE1\"\n",
    "dstruc <- get_data_structure(dataset)\n",
    "str(dstruc, max.level = 1)\n",
    "dstruc$MEASURE\n",
    "dstruc$VAR_DESC"
   ]
  },
  {
   "cell_type": "code",
   "execution_count": 10,
   "metadata": {},
   "outputs": [
    {
     "data": {
      "text/html": [
       "<table>\n",
       "<thead><tr><th scope=col>LOCATION</th><th scope=col>TRANSACT</th><th scope=col>MEASURE</th><th scope=col>TIME_FORMAT</th><th scope=col>UNIT</th><th scope=col>POWERCODE</th><th scope=col>REFERENCEPERIOD</th><th scope=col>obsTime</th><th scope=col>obsValue</th><th scope=col>OBS_STATUS</th></tr></thead>\n",
       "<tbody>\n",
       "\t<tr><td>FRA   </td><td>B1_GA </td><td>V     </td><td>P1Y   </td><td>EUR   </td><td>6     </td><td>2014  </td><td>1950  </td><td>293367</td><td>NA    </td></tr>\n",
       "\t<tr><td>FRA   </td><td>B1_GA </td><td>V     </td><td>P1Y   </td><td>EUR   </td><td>6     </td><td>2014  </td><td>1951  </td><td>310358</td><td>NA    </td></tr>\n",
       "\t<tr><td>FRA   </td><td>B1_GA </td><td>V     </td><td>P1Y   </td><td>EUR   </td><td>6     </td><td>2014  </td><td>1952  </td><td>320022</td><td>NA    </td></tr>\n",
       "\t<tr><td>FRA   </td><td>B1_GA </td><td>V     </td><td>P1Y   </td><td>EUR   </td><td>6     </td><td>2014  </td><td>1953  </td><td>331083</td><td>NA    </td></tr>\n",
       "\t<tr><td>FRA   </td><td>B1_GA </td><td>V     </td><td>P1Y   </td><td>EUR   </td><td>6     </td><td>2014  </td><td>1954  </td><td>349552</td><td>NA    </td></tr>\n",
       "\t<tr><td>FRA   </td><td>B1_GA </td><td>V     </td><td>P1Y   </td><td>EUR   </td><td>6     </td><td>2014  </td><td>1955  </td><td>368120</td><td>NA    </td></tr>\n",
       "</tbody>\n",
       "</table>\n"
      ],
      "text/latex": [
       "\\begin{tabular}{r|llllllllll}\n",
       " LOCATION & TRANSACT & MEASURE & TIME\\_FORMAT & UNIT & POWERCODE & REFERENCEPERIOD & obsTime & obsValue & OBS\\_STATUS\\\\\n",
       "\\hline\n",
       "\t FRA     & B1\\_GA & V       & P1Y     & EUR     & 6       & 2014    & 1950    & 293367  & NA     \\\\\n",
       "\t FRA     & B1\\_GA & V       & P1Y     & EUR     & 6       & 2014    & 1951    & 310358  & NA     \\\\\n",
       "\t FRA     & B1\\_GA & V       & P1Y     & EUR     & 6       & 2014    & 1952    & 320022  & NA     \\\\\n",
       "\t FRA     & B1\\_GA & V       & P1Y     & EUR     & 6       & 2014    & 1953    & 331083  & NA     \\\\\n",
       "\t FRA     & B1\\_GA & V       & P1Y     & EUR     & 6       & 2014    & 1954    & 349552  & NA     \\\\\n",
       "\t FRA     & B1\\_GA & V       & P1Y     & EUR     & 6       & 2014    & 1955    & 368120  & NA     \\\\\n",
       "\\end{tabular}\n"
      ],
      "text/markdown": [
       "\n",
       "LOCATION | TRANSACT | MEASURE | TIME_FORMAT | UNIT | POWERCODE | REFERENCEPERIOD | obsTime | obsValue | OBS_STATUS | \n",
       "|---|---|---|---|---|---|\n",
       "| FRA    | B1_GA  | V      | P1Y    | EUR    | 6      | 2014   | 1950   | 293367 | NA     | \n",
       "| FRA    | B1_GA  | V      | P1Y    | EUR    | 6      | 2014   | 1951   | 310358 | NA     | \n",
       "| FRA    | B1_GA  | V      | P1Y    | EUR    | 6      | 2014   | 1952   | 320022 | NA     | \n",
       "| FRA    | B1_GA  | V      | P1Y    | EUR    | 6      | 2014   | 1953   | 331083 | NA     | \n",
       "| FRA    | B1_GA  | V      | P1Y    | EUR    | 6      | 2014   | 1954   | 349552 | NA     | \n",
       "| FRA    | B1_GA  | V      | P1Y    | EUR    | 6      | 2014   | 1955   | 368120 | NA     | \n",
       "\n",
       "\n"
      ],
      "text/plain": [
       "  LOCATION TRANSACT MEASURE TIME_FORMAT UNIT POWERCODE REFERENCEPERIOD obsTime\n",
       "1 FRA      B1_GA    V       P1Y         EUR  6         2014            1950   \n",
       "2 FRA      B1_GA    V       P1Y         EUR  6         2014            1951   \n",
       "3 FRA      B1_GA    V       P1Y         EUR  6         2014            1952   \n",
       "4 FRA      B1_GA    V       P1Y         EUR  6         2014            1953   \n",
       "5 FRA      B1_GA    V       P1Y         EUR  6         2014            1954   \n",
       "6 FRA      B1_GA    V       P1Y         EUR  6         2014            1955   \n",
       "  obsValue OBS_STATUS\n",
       "1 293367   NA        \n",
       "2 310358   NA        \n",
       "3 320022   NA        \n",
       "4 331083   NA        \n",
       "5 349552   NA        \n",
       "6 368120   NA        "
      ]
     },
     "metadata": {},
     "output_type": "display_data"
    }
   ],
   "source": [
    "filter_list <- list(c(\"FRA\"),\"B1_GA\",\"V\")\n",
    "df <- get_dataset(dataset = dataset, filter = filter_list)\n",
    "head(df)\n",
    "grate <- diff(log(df$obsValue),lag=1)*100"
   ]
  },
  {
   "cell_type": "code",
   "execution_count": 11,
   "metadata": {},
   "outputs": [
    {
     "data": {
      "image/png": "[encoded data removed]",
      "text/plain": [
       "plot without title"
      ]
     },
     "metadata": {},
     "output_type": "display_data"
    }
   ],
   "source": [
    "plot(grate, type = \"l\")"
   ]
  },
  {
   "cell_type": "code",
   "execution_count": 1,
   "metadata": {},
   "outputs": [
    {
     "name": "stderr",
     "output_type": "stream",
     "text": [
      "Loading required package: xts\n",
      "Loading required package: zoo\n",
      "\n",
      "Attaching package: 'zoo'\n",
      "\n",
      "The following objects are masked from 'package:base':\n",
      "\n",
      "    as.Date, as.Date.numeric\n",
      "\n"
     ]
    },
    {
     "data": {
      "image/png": "[encoded data removed]",
      "text/plain": [
       "Plot with title \"\""
      ]
     },
     "metadata": {},
     "output_type": "display_data"
    }
   ],
   "source": [
    "library(Quandl)\n",
    "Quandl.api_key(\"X9sYERivSxs8bpTdtWHi\")\n",
    "rGDP <- Quandl(\"FRED/GDPC1\", type=\"zoo\" )\n",
    "plot(rGDP, xlab=\"Year\", ylab=\"Real GDP\")"
   ]
  },
  {
   "cell_type": "code",
   "execution_count": 13,
   "metadata": {},
   "outputs": [
    {
     "data": {
      "image/png": "[encoded data removed]",
      "text/plain": [
       "Plot with title \"\""
      ]
     },
     "metadata": {},
     "output_type": "display_data"
    }
   ],
   "source": [
    "dlrGDP <- diff(log(rGDP))\n",
    "plot(dlrGDP,  xlab=\"Year\", ylab=\"log difference in Real GDP\")"
   ]
  },
  {
   "cell_type": "code",
   "execution_count": 14,
   "metadata": {},
   "outputs": [
    {
     "name": "stdout",
     "output_type": "stream",
     "text": [
      "Series: dlrGDP.in \n",
      "ARIMA(1,0,0) with non-zero mean \n",
      "\n",
      "Coefficients:\n",
      "         ar1    mean\n",
      "      0.3640  0.0079\n",
      "s.e.  0.0574  0.0009\n",
      "\n",
      "sigma^2 estimated as 8.187e-05:  log likelihood=865.22\n",
      "AIC=-1724.43   AICc=-1724.34   BIC=-1713.71\n",
      "\n",
      "Training set error measures:\n",
      "                       ME        RMSE         MAE       MPE     MAPE      MASE\n",
      "Training set 1.734455e-05 0.009013782 0.006714396 -194.0079 324.1132 0.6409352\n",
      "                    ACF1\n",
      "Training set -0.04111238\n"
     ]
    }
   ],
   "source": [
    "dlrGDP.in <- window(dlrGDP, end=\"2012 Q4\")\n",
    "dlrGDP.out <- window(dlrGDP, start=\"2013 Q1\")\n",
    "library(forecast)\n",
    "model <- auto.arima(dlrGDP.in, seasonal = FALSE, stationary = TRUE, stepwise = FALSE, ic =\"bic\")\n",
    "summary(model)"
   ]
  },
  {
   "cell_type": "code",
   "execution_count": 15,
   "metadata": {},
   "outputs": [
    {
     "name": "stdout",
     "output_type": "stream",
     "text": [
      "            Qtr1        Qtr2        Qtr3        Qtr4\n",
      "2013 0.005415169 0.008222615 0.005444283 0.007837090\n",
      "2014 0.007890819 0.004059539 0.009500509 0.009352417\n",
      "2015 0.006712890 0.007967524 0.007975165 0.005872778\n",
      "2016 0.005346459 0.006359708 0.007004417 0.006681967\n",
      "2017 0.006528197 0.006540259 0.007605402 0.007455736\n",
      "2018 0.006981733 0.006911367 0.008618130            \n",
      "            Qtr1        Qtr2        Qtr3        Qtr4\n",
      "2013 0.004701376 0.007986666 0.006902022 0.007102520\n",
      "2014 0.007996433 0.004740222 0.007644320 0.010593239\n",
      "2015 0.007961073 0.006822280 0.007637308 0.006349198\n",
      "2016 0.004886026 0.005807538 0.007304054 0.007683798\n",
      "2017 0.007316218 0.006846015 0.007527928 0.007782392\n",
      "2018 0.007343048 0.006955472 0.008318855            \n"
     ]
    },
    {
     "data": {
      "image/png": "[encoded data removed]",
      "text/plain": [
       "plot without title"
      ]
     },
     "metadata": {},
     "output_type": "display_data"
    }
   ],
   "source": [
    "rolling.f <-zoo()\n",
    "rolling.f2 <-zoo()\n",
    "\n",
    "for(t in 1:length(dlrGDP.out))\n",
    "{\n",
    "  y <- window(dlrGDP, end = 2012.75+(t-1)/4)\n",
    "  rolling.auto_arma <- auto.arima(y, seasonal = FALSE, stationary = TRUE, stepwise = FALSE, ic =\"bic\")\n",
    "  rolling.ar <- arima(y, order=c(2,0,2))    \n",
    "  rolling.f <- c(rolling.f, forecast(rolling.auto_arma, 1)$mean)\n",
    "  rolling.f2 <- c(rolling.f2, forecast(rolling.ar, 1)$mean)\n",
    "}  \n",
    "rolling.f <-as.ts(rolling.f)\n",
    "rolling.f2 <-as.ts(rolling.f2)\n",
    "\n",
    "plot(rolling.f, type=\"o\", pch=15, xlim=c(2005, 2018), ylim=c(-0.03, 0.04))\n",
    "lines(rolling.f, type=\"p\", pch=15, lty=\"solid\", col=\"red\")\n",
    "lines(rolling.f2, type=\"p\", pch=15, lty=\"solid\", col=\"blue\")\n",
    "lines(dlrGDP, type=\"o\", pch=16, lty=\"dotted\")\n",
    "lines(dlrGDP.in, type=\"o\", pch=16, lty=\"solid\")\n",
    "\n",
    "print(rolling.f)\n",
    "print(rolling.f2)"
   ]
  },
  {
   "cell_type": "code",
   "execution_count": 2,
   "metadata": {},
   "outputs": [
    {
     "name": "stderr",
     "output_type": "stream",
     "text": [
      "Loading required package: parallel\n",
      "\n",
      "Attaching package: 'rugarch'\n",
      "\n",
      "The following object is masked from 'package:stats':\n",
      "\n",
      "    sigma\n",
      "\n",
      "Loading required package: TTR\n",
      "Version 0.4-0 included new data defaults. See ?getSymbols.\n",
      "'getSymbols' currently uses auto.assign=TRUE by default, but will\n",
      "use auto.assign=FALSE in 0.5-0. You will still be able to use\n",
      "'loadSymbols' to automatically load data. getOption(\"getSymbols.env\")\n",
      "and getOption(\"getSymbols.auto.assign\") will still be checked for\n",
      "alternate defaults.\n",
      "\n",
      "This message is shown once per session and may be disabled by setting \n",
      "options(\"getSymbols.warning4.0\"=FALSE). See ?getSymbols for details.\n",
      "\n",
      "\n",
      "WARNING: There have been significant changes to Yahoo Finance data.\n",
      "Please see the Warning section of '?getSymbols.yahoo' for details.\n",
      "\n",
      "This message is shown once per session and may be disabled by setting\n",
      "options(\"getSymbols.yahoo.warning\"=FALSE).\n"
     ]
    },
    {
     "ename": "ERROR",
     "evalue": "Error in VaRTest(alpha = 0.05, model@forecast$realized, VaR_garch, conf.level = 0.95): \nlength of realized not equal to length of VaR!\n",
     "output_type": "error",
     "traceback": [
      "Error in VaRTest(alpha = 0.05, model@forecast$realized, VaR_garch, conf.level = 0.95): \nlength of realized not equal to length of VaR!\nTraceback:\n",
      "1. VaRTest(alpha = 0.05, model@forecast$realized, VaR_garch, conf.level = 0.95)",
      "2. stop(\"\\nlength of realized not equal to length of VaR!\")"
     ]
    }
   ],
   "source": [
    "library(rugarch)\n",
    "library(quantmod)\n",
    "\n",
    "SPX <- getSymbols(\"^GSPC\",auto.assign = FALSE, from = \"2012-01-01\")\n",
    "rSP <- 100*(diff(log(SPX$GSPC.Close)))\n",
    "garch <- ugarchspec(variance.model = list(model = \"sGARCH\", \n",
    "                      garchOrder = c(1, 1)),\n",
    "                      mean.model=list(armaOrder=c(0,0)),  \n",
    "                      distribution=\"norm\")\n",
    "\n",
    "#Rolling Estimation\n",
    "T <- length(rSP)-250\n",
    "model <- ugarchroll(garch, na.omit(rSP), n.start=T, refit.every = 25, refit.window = \"moving\", VaR.alpha = c(0.025, 0.05))\n",
    "VaR_garch <- model@forecast$VaR[,2]\n",
    "rSP_break <- rSP[(T+2):length(rSP)]\n",
    "\n",
    "VaR_unc <- rep(sd(rSP_break) * qnorm(0.05),249)\n",
    "VaR_unc <- xts(VaR_unc, order.by = index(rSP_break))\n",
    "VaR_garch <- xts(VaR_garch, order.by=index(rSP_break))\n",
    "VaRTest(alpha = 0.05, model@forecast$realized, VaR_garch, conf.level = 0.95)\n",
    "xaxis <- rownames(rSP)\n",
    "xaxis <- xaxis[rSP_break]\n",
    "#VaR Plot\n",
    "plot(rSP_break, type = \"l\", pch = 16, cex = 0.8)\n",
    "lines(VaR_garch, col=\"blue\")\n",
    "lines(VaR_unc, col = \"red\")\n",
    "legend('topright', c(\"GARCH(1,1)\", \"Static VaR\"))\n"
   ]
  },
  {
   "cell_type": "markdown",
   "metadata": {},
   "source": []
  },
  {
   "cell_type": "code",
   "execution_count": null,
   "metadata": {},
   "outputs": [],
   "source": []
  },
  {
   "cell_type": "code",
   "execution_count": null,
   "metadata": {},
   "outputs": [],
   "source": []
  },
  {
   "cell_type": "code",
   "execution_count": null,
   "metadata": {},
   "outputs": [],
   "source": []
  },
  {
   "cell_type": "code",
   "execution_count": null,
   "metadata": {},
   "outputs": [],
   "source": []
  }
 ],
 "metadata": {
  "kernelspec": {
   "display_name": "R",
   "language": "R",
   "name": "ir"
  },
  "language_info": {
   "codemirror_mode": "r",
   "file_extension": ".r",
   "mimetype": "text/x-r-source",
   "name": "R",
   "pygments_lexer": "r",
   "version": "3.5.1"
  }
 },
 "nbformat": 4,
 "nbformat_minor": 2
}
